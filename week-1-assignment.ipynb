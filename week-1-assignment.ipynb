{
 "cells": [
  {
   "cell_type": "code",
   "execution_count": 2,
   "id": "ccd863b6",
   "metadata": {},
   "outputs": [],
   "source": [
    "import pandas as pd"
   ]
  },
  {
   "cell_type": "code",
   "execution_count": 3,
   "id": "89343d52",
   "metadata": {},
   "outputs": [],
   "source": [
    "from sklearn.feature_extraction import DictVectorizer"
   ]
  },
  {
   "cell_type": "code",
   "execution_count": 4,
   "id": "b95144c3",
   "metadata": {},
   "outputs": [],
   "source": [
    "from sklearn.linear_model import LinearRegression\n",
    "from sklearn.metrics import mean_squared_error"
   ]
  },
  {
   "cell_type": "code",
   "execution_count": 5,
   "id": "daef8ac5",
   "metadata": {},
   "outputs": [],
   "source": [
    "top_dir = '/home/ubuntu/mlops-zoomcamp/data'\n",
    "files = ['fhv_tripdata_2021-01.parquet', 'fhv_tripdata_2021-02.parquet']"
   ]
  },
  {
   "cell_type": "code",
   "execution_count": 6,
   "id": "a7b6c67d",
   "metadata": {},
   "outputs": [
    {
     "name": "stdout",
     "output_type": "stream",
     "text": [
      "(1154112, 7)\n",
      "(1037692, 7)\n"
     ]
    },
    {
     "data": {
      "text/html": [
       "<div>\n",
       "<style scoped>\n",
       "    .dataframe tbody tr th:only-of-type {\n",
       "        vertical-align: middle;\n",
       "    }\n",
       "\n",
       "    .dataframe tbody tr th {\n",
       "        vertical-align: top;\n",
       "    }\n",
       "\n",
       "    .dataframe thead th {\n",
       "        text-align: right;\n",
       "    }\n",
       "</style>\n",
       "<table border=\"1\" class=\"dataframe\">\n",
       "  <thead>\n",
       "    <tr style=\"text-align: right;\">\n",
       "      <th></th>\n",
       "      <th>dispatching_base_num</th>\n",
       "      <th>pickup_datetime</th>\n",
       "      <th>dropOff_datetime</th>\n",
       "      <th>PUlocationID</th>\n",
       "      <th>DOlocationID</th>\n",
       "      <th>SR_Flag</th>\n",
       "      <th>Affiliated_base_number</th>\n",
       "    </tr>\n",
       "  </thead>\n",
       "  <tbody>\n",
       "    <tr>\n",
       "      <th>0</th>\n",
       "      <td>B00009</td>\n",
       "      <td>2021-01-01 00:27:00</td>\n",
       "      <td>2021-01-01 00:44:00</td>\n",
       "      <td>NaN</td>\n",
       "      <td>NaN</td>\n",
       "      <td>None</td>\n",
       "      <td>B00009</td>\n",
       "    </tr>\n",
       "    <tr>\n",
       "      <th>1</th>\n",
       "      <td>B00009</td>\n",
       "      <td>2021-01-01 00:50:00</td>\n",
       "      <td>2021-01-01 01:07:00</td>\n",
       "      <td>NaN</td>\n",
       "      <td>NaN</td>\n",
       "      <td>None</td>\n",
       "      <td>B00009</td>\n",
       "    </tr>\n",
       "    <tr>\n",
       "      <th>2</th>\n",
       "      <td>B00013</td>\n",
       "      <td>2021-01-01 00:01:00</td>\n",
       "      <td>2021-01-01 01:51:00</td>\n",
       "      <td>NaN</td>\n",
       "      <td>NaN</td>\n",
       "      <td>None</td>\n",
       "      <td>B00013</td>\n",
       "    </tr>\n",
       "    <tr>\n",
       "      <th>3</th>\n",
       "      <td>B00037</td>\n",
       "      <td>2021-01-01 00:13:09</td>\n",
       "      <td>2021-01-01 00:21:26</td>\n",
       "      <td>NaN</td>\n",
       "      <td>72.0</td>\n",
       "      <td>None</td>\n",
       "      <td>B00037</td>\n",
       "    </tr>\n",
       "    <tr>\n",
       "      <th>4</th>\n",
       "      <td>B00037</td>\n",
       "      <td>2021-01-01 00:38:31</td>\n",
       "      <td>2021-01-01 00:53:44</td>\n",
       "      <td>NaN</td>\n",
       "      <td>61.0</td>\n",
       "      <td>None</td>\n",
       "      <td>B00037</td>\n",
       "    </tr>\n",
       "  </tbody>\n",
       "</table>\n",
       "</div>"
      ],
      "text/plain": [
       "  dispatching_base_num     pickup_datetime    dropOff_datetime  PUlocationID  \\\n",
       "0               B00009 2021-01-01 00:27:00 2021-01-01 00:44:00           NaN   \n",
       "1               B00009 2021-01-01 00:50:00 2021-01-01 01:07:00           NaN   \n",
       "2               B00013 2021-01-01 00:01:00 2021-01-01 01:51:00           NaN   \n",
       "3               B00037 2021-01-01 00:13:09 2021-01-01 00:21:26           NaN   \n",
       "4               B00037 2021-01-01 00:38:31 2021-01-01 00:53:44           NaN   \n",
       "\n",
       "   DOlocationID SR_Flag Affiliated_base_number  \n",
       "0           NaN    None                 B00009  \n",
       "1           NaN    None                 B00009  \n",
       "2           NaN    None                 B00013  \n",
       "3          72.0    None                 B00037  \n",
       "4          61.0    None                 B00037  "
      ]
     },
     "execution_count": 6,
     "metadata": {},
     "output_type": "execute_result"
    }
   ],
   "source": [
    "data_list = []\n",
    "for f in files:\n",
    "    df = pd.read_parquet(top_dir+'/'+f)\n",
    "    data_list.append(df)\n",
    "    print(df.shape)\n",
    "\n",
    "data = pd.DataFrame() \n",
    "data = pd.concat(data_list, ignore_index=True)\n",
    "data.head()"
   ]
  },
  {
   "cell_type": "markdown",
   "id": "320ff55e",
   "metadata": {},
   "source": [
    "## Question 1\n",
    "#### How many rows are there for January 2021"
   ]
  },
  {
   "cell_type": "code",
   "execution_count": 7,
   "id": "fe284518",
   "metadata": {},
   "outputs": [
    {
     "data": {
      "text/plain": [
       "(1154112, 7)"
      ]
     },
     "execution_count": 7,
     "metadata": {},
     "output_type": "execute_result"
    }
   ],
   "source": [
    "data[data['pickup_datetime'].dt.month == 1].shape"
   ]
  },
  {
   "cell_type": "markdown",
   "id": "bebc3189",
   "metadata": {},
   "source": [
    "## Question 2 \n",
    "#### What's the average trip duration in January"
   ]
  },
  {
   "cell_type": "code",
   "execution_count": 8,
   "id": "2094fba5",
   "metadata": {},
   "outputs": [
    {
     "data": {
      "text/plain": [
       "18.610744306736674"
      ]
     },
     "execution_count": 8,
     "metadata": {},
     "output_type": "execute_result"
    }
   ],
   "source": [
    "data['duration'] = data['dropOff_datetime'] - data['pickup_datetime']\n",
    "data['duration_min'] = (data.duration.dt.seconds)/60\n",
    "jan = data[(data['pickup_datetime'].dt.month == 1)].copy() # & (data['PUlocationID'].notna()) & (data['DOlocationID'].notna())].copy()\n",
    "jan.duration_min.mean()\n"
   ]
  },
  {
   "cell_type": "markdown",
   "id": "45d357cc",
   "metadata": {},
   "source": [
    "## Data Preparation\n"
   ]
  },
  {
   "cell_type": "code",
   "execution_count": 9,
   "id": "daa14856",
   "metadata": {},
   "outputs": [
    {
     "data": {
      "text/plain": [
       "<AxesSubplot:ylabel='Frequency'>"
      ]
     },
     "execution_count": 9,
     "metadata": {},
     "output_type": "execute_result"
    },
    {
     "data": {
      "image/png": "[encoded data removed]",
      "text/plain": [
       "<Figure size 432x288 with 1 Axes>"
      ]
     },
     "metadata": {
      "needs_background": "light"
     },
     "output_type": "display_data"
    }
   ],
   "source": [
    "data.duration_min.plot.hist(bins=1000)"
   ]
  },
  {
   "cell_type": "code",
   "execution_count": 10,
   "id": "95d3cdf1",
   "metadata": {},
   "outputs": [],
   "source": [
    "data_min_filter = data[(data['duration_min'] >= 1) & (data['duration_min'] <= 60) ].copy()"
   ]
  },
  {
   "cell_type": "code",
   "execution_count": 11,
   "id": "39d6d03d",
   "metadata": {},
   "outputs": [
    {
     "data": {
      "text/plain": [
       "16.247430951067546"
      ]
     },
     "execution_count": 11,
     "metadata": {},
     "output_type": "execute_result"
    }
   ],
   "source": [
    "data_min_filter[data_min_filter['pickup_datetime'].dt.month == 1].duration_min.mean()"
   ]
  },
  {
   "cell_type": "markdown",
   "id": "94fa1c45",
   "metadata": {},
   "source": [
    "## Question 3\n",
    "The features we'll use for our model are the pickup and dropoff location IDs.\n",
    "\n",
    "But they have a lot of missing values there. Let's replace them with \"-1\".\n",
    "\n",
    "What's the fractions of missing values for the pickup location ID? I.e. fraction of \"-1\"s after you filled the NAs."
   ]
  },
  {
   "cell_type": "code",
   "execution_count": 12,
   "id": "5e527a71",
   "metadata": {},
   "outputs": [],
   "source": [
    "data_min_filter['PUlocationID'].fillna(-1, inplace=True)\n",
    "data_min_filter['DOlocationID'].fillna(-1, inplace=True)\n"
   ]
  },
  {
   "cell_type": "code",
   "execution_count": 13,
   "id": "cfa5ad6d",
   "metadata": {},
   "outputs": [
    {
     "data": {
      "text/plain": [
       "0.835275482428754"
      ]
     },
     "execution_count": 13,
     "metadata": {},
     "output_type": "execute_result"
    }
   ],
   "source": [
    "data_min_filter[(data_min_filter['PUlocationID'] == -1) & (data_min_filter['pickup_datetime'].dt.month == 1)].shape[0] / data_min_filter[\n",
    "    (data_min_filter['pickup_datetime'].dt.month == 1)\n",
    "].shape[0]"
   ]
  },
  {
   "cell_type": "markdown",
   "id": "6a4f4691",
   "metadata": {},
   "source": [
    "## Q4. One-hot encoding\n"
   ]
  },
  {
   "cell_type": "code",
   "execution_count": 14,
   "id": "5a4713ed",
   "metadata": {},
   "outputs": [],
   "source": [
    "X_train_dict = data_min_filter[(data_min_filter['pickup_datetime'].dt.month == 1)][['PUlocationID', 'DOlocationID']].to_dict('records')\n",
    "X_test_dict = data_min_filter[(data_min_filter['pickup_datetime'].dt.month != 1)][['PUlocationID', 'DOlocationID']].to_dict('records')\n",
    "\n",
    "dic_vec = DictVectorizer()\n",
    "\n",
    "X_train = dic_vec.fit_transform(X_train_dict)\n",
    "X_test = dic_vec.transform(X_test_dict)"
   ]
  },
  {
   "cell_type": "code",
   "execution_count": 15,
   "id": "2bffc6b7",
   "metadata": {},
   "outputs": [],
   "source": [
    "Y_train = data_min_filter[(data_min_filter['pickup_datetime'].dt.month == 1)]['duration_min']\n",
    "Y_test = data_min_filter[(data_min_filter['pickup_datetime'].dt.month != 1)]['duration_min']"
   ]
  },
  {
   "cell_type": "code",
   "execution_count": 21,
   "id": "87e9b675",
   "metadata": {},
   "outputs": [
    {
     "data": {
      "text/plain": [
       "<1109853x2 sparse matrix of type '<class 'numpy.float64'>'\n",
       "\twith 2219706 stored elements in Compressed Sparse Row format>"
      ]
     },
     "execution_count": 21,
     "metadata": {},
     "output_type": "execute_result"
    }
   ],
   "source": [
    "X_train"
   ]
  },
  {
   "cell_type": "code",
   "execution_count": 16,
   "id": "7501a085",
   "metadata": {},
   "outputs": [],
   "source": [
    "model = LinearRegression()"
   ]
  },
  {
   "cell_type": "markdown",
   "id": "07208e93",
   "metadata": {},
   "source": [
    "## Q5. Training a model\n",
    "#### RMSE on train"
   ]
  },
  {
   "cell_type": "code",
   "execution_count": 17,
   "id": "a6fe1921",
   "metadata": {},
   "outputs": [
    {
     "data": {
      "text/plain": [
       "LinearRegression()"
      ]
     },
     "execution_count": 17,
     "metadata": {},
     "output_type": "execute_result"
    }
   ],
   "source": [
    "model.fit(X_train, Y_train)"
   ]
  },
  {
   "cell_type": "code",
   "execution_count": 19,
   "id": "54e9f3d4",
   "metadata": {},
   "outputs": [
    {
     "data": {
      "text/plain": [
       "11.415550966867276"
      ]
     },
     "execution_count": 19,
     "metadata": {},
     "output_type": "execute_result"
    }
   ],
   "source": [
    "Y_pred = model.predict(X_train)\n",
    "mean_squared_error(Y_train, Y_pred, squared=False)"
   ]
  },
  {
   "cell_type": "markdown",
   "id": "a3ae88e7",
   "metadata": {},
   "source": [
    "# Q6. Evaluating the model\n",
    "#### RMSE on Validation"
   ]
  },
  {
   "cell_type": "code",
   "execution_count": 20,
   "id": "10ce3694",
   "metadata": {},
   "outputs": [
    {
     "data": {
      "text/plain": [
       "11.858528336684484"
      ]
     },
     "execution_count": 20,
     "metadata": {},
     "output_type": "execute_result"
    }
   ],
   "source": [
    "Y_pred_val = model.predict(X_test)\n",
    "mean_squared_error(Y_test, Y_pred_val, squared=False)"
   ]
  },
  {
   "cell_type": "code",
   "execution_count": null,
   "id": "6b2140b8",
   "metadata": {},
   "outputs": [],
   "source": []
  }
 ],
 "metadata": {
  "kernelspec": {
   "display_name": "Python 3 (ipykernel)",
   "language": "python",
   "name": "python3"
  },
  "language_info": {
   "codemirror_mode": {
    "name": "ipython",
    "version": 3
   },
   "file_extension": ".py",
   "mimetype": "text/x-python",
   "name": "python",
   "nbconvert_exporter": "python",
   "pygments_lexer": "ipython3",
   "version": "3.9.12"
  }
 },
 "nbformat": 4,
 "nbformat_minor": 5
}
